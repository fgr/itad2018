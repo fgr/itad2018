{
 "cells": [
  {
   "cell_type": "markdown",
   "metadata": {},
   "source": [
    "# Introduction to Autonomous Driving 2018\n",
    "## Localization of a robot\n",
    "### University of Applied Science Zwickau, Computer science\n",
    "\n",
    "----\n",
    "\n",
    "# Goal: Localization of a robot with inaccurate (i.e., noisy) color sensor and inaccurate robot movement\n",
    "\n",
    "After successfully implementing the robot localization in part 1, we will now discuss how to deal with inaccurate measurement and movement of the robot."
   ]
  },
  {
   "cell_type": "code",
   "execution_count": 1,
   "metadata": {},
   "outputs": [],
   "source": [
    "# Setup (please ignore)\n",
    "%matplotlib inline\n",
    "\n",
    "from helper import *"
   ]
  },
  {
   "cell_type": "markdown",
   "metadata": {},
   "source": [
    "## Step 1: Handling sensor noise while updating the position\n",
    "\n",
    "The color sensor does not always measure precisely. We need to integrate the knowledge, that the sensor will only provide an accurate measurement in 10% of the cases, into our program. In 10% of the cases the sensor will identify a white cell as a black one and vice versa."
   ]
  },
  {
   "cell_type": "code",
   "execution_count": 20,
   "metadata": {},
   "outputs": [],
   "source": [
    "def update_beliefs_given_inaccurate_sensor(worldmap, beliefs, measured_color):\n",
    "\t# 1. Calculate new beliefs of the robot's position based on the prior beliefs and the current measured cellcolor\n",
    "\t\n",
    "    # Beliefs for accurate and inaccurate measurements by the sensor\n",
    "\tp_accurate = 0.9\n",
    "\tp_inaccurate = 1 - p_accurate \n",
    "\n",
    "\tnew_beliefs = []\n",
    "\tfor index, cellcolor in enumerate(worldmap):\n",
    "\t\tbelief = beliefs[index]\n",
    "\t\tequal_color = (cellcolor == measured_color)\n",
    "\t\tif equal_color:\n",
    "\t\t\tnew_belief = belief * p_accurate\n",
    "\t\telse:\n",
    "\t\t\tnew_belief = belief * p_inaccurate\n",
    "\t\tnew_beliefs.append(new_belief)\n",
    "\n",
    "\t# 2. Normalize\n",
    "\ts = sum(new_beliefs)\n",
    "\tfor i in range(len(new_beliefs)):\n",
    "\t\tnew_beliefs[i] = new_beliefs[i] / s\n",
    "\t\n",
    "\treturn new_beliefs"
   ]
  },
  {
   "cell_type": "markdown",
   "metadata": {},
   "source": [
    "----\n",
    "\n",
    "## 1. Exercise\n",
    "\n",
    "* Use procedure `update_beliefs_given_inaccurate_sensor` to update the position.\n",
    "* Use `show_diagram` instead of `show`.\n",
    "* Use the familiar procedure `move_one_cell_right` to move the robot to the next cell."
   ]
  },
  {
   "cell_type": "code",
   "execution_count": 21,
   "metadata": {},
   "outputs": [],
   "source": [
    "def move_one_cell_right(beliefs):\n",
    "    return shift_list(beliefs, 1)"
   ]
  },
  {
   "cell_type": "code",
   "execution_count": 22,
   "metadata": {},
   "outputs": [
    {
     "name": "stdout",
     "output_type": "stream",
     "text": [
      "Initial beliefs:\n"
     ]
    },
    {
     "ename": "NameError",
     "evalue": "name 'show_diagram' is not defined",
     "output_type": "error",
     "traceback": [
      "\u001b[0;31m---------------------------------------------------------------------------\u001b[0m",
      "\u001b[0;31mNameError\u001b[0m                                 Traceback (most recent call last)",
      "\u001b[0;32m<ipython-input-22-a34d9b29d686>\u001b[0m in \u001b[0;36m<module>\u001b[0;34m()\u001b[0m\n\u001b[1;32m      3\u001b[0m \u001b[0;34m\u001b[0m\u001b[0m\n\u001b[1;32m      4\u001b[0m \u001b[0mprint\u001b[0m\u001b[0;34m(\u001b[0m\u001b[0;34m\"Initial beliefs:\"\u001b[0m\u001b[0;34m)\u001b[0m\u001b[0;34m\u001b[0m\u001b[0m\n\u001b[0;32m----> 5\u001b[0;31m \u001b[0mshow_diagram\u001b[0m\u001b[0;34m(\u001b[0m\u001b[0mworldmap\u001b[0m\u001b[0;34m,\u001b[0m \u001b[0mbeliefs\u001b[0m\u001b[0;34m)\u001b[0m\u001b[0;34m\u001b[0m\u001b[0m\n\u001b[0m",
      "\u001b[0;31mNameError\u001b[0m: name 'show_diagram' is not defined"
     ]
    }
   ],
   "source": [
    "worldmap = ['G', 'G', 'R', 'G', 'R']\n",
    "beliefs = [ 0.2, 0.2, 0.2, 0.2, 0.2 ]\n",
    "\n",
    "print(\"Initial beliefs:\")\n",
    "show_diagram(worldmap, beliefs)"
   ]
  },
  {
   "cell_type": "code",
   "execution_count": 23,
   "metadata": {},
   "outputs": [
    {
     "name": "stdout",
     "output_type": "stream",
     "text": [
      "Measurement 1: cell has the color green\n"
     ]
    },
    {
     "ename": "NameError",
     "evalue": "name 'show_diagram' is not defined",
     "output_type": "error",
     "traceback": [
      "\u001b[0;31m---------------------------------------------------------------------------\u001b[0m",
      "\u001b[0;31mNameError\u001b[0m                                 Traceback (most recent call last)",
      "\u001b[0;32m<ipython-input-23-06b91f773028>\u001b[0m in \u001b[0;36m<module>\u001b[0;34m()\u001b[0m\n\u001b[1;32m      1\u001b[0m \u001b[0mprint\u001b[0m\u001b[0;34m(\u001b[0m\u001b[0;34m\"Measurement 1: cell has the color green\"\u001b[0m\u001b[0;34m)\u001b[0m\u001b[0;34m\u001b[0m\u001b[0m\n\u001b[1;32m      2\u001b[0m \u001b[0mbeliefs\u001b[0m \u001b[0;34m=\u001b[0m \u001b[0mupdate_beliefs_given_inaccurate_sensor\u001b[0m\u001b[0;34m(\u001b[0m\u001b[0mworldmap\u001b[0m\u001b[0;34m,\u001b[0m \u001b[0mbeliefs\u001b[0m\u001b[0;34m,\u001b[0m \u001b[0mmeasured_color\u001b[0m\u001b[0;34m=\u001b[0m\u001b[0;34m'G'\u001b[0m\u001b[0;34m)\u001b[0m\u001b[0;34m\u001b[0m\u001b[0m\n\u001b[0;32m----> 3\u001b[0;31m \u001b[0mshow_diagram\u001b[0m\u001b[0;34m(\u001b[0m\u001b[0mworldmap\u001b[0m\u001b[0;34m,\u001b[0m \u001b[0mbeliefs\u001b[0m\u001b[0;34m)\u001b[0m\u001b[0;34m\u001b[0m\u001b[0m\n\u001b[0m",
      "\u001b[0;31mNameError\u001b[0m: name 'show_diagram' is not defined"
     ]
    }
   ],
   "source": [
    "print(\"Measurement 1: cell has the color green\")\n",
    "beliefs = update_beliefs_given_inaccurate_sensor(worldmap, beliefs, measured_color='G')\n",
    "show_diagram(worldmap, beliefs)"
   ]
  },
  {
   "cell_type": "code",
   "execution_count": 17,
   "metadata": {},
   "outputs": [
    {
     "name": "stdout",
     "output_type": "stream",
     "text": [
      "Movement 1: one cell to the right\n"
     ]
    },
    {
     "data": {
      "image/png": "[encoded data removed]",
      "text/plain": [
       "<Figure size 432x288 with 1 Axes>"
      ]
     },
     "metadata": {},
     "output_type": "display_data"
    }
   ],
   "source": [
    "print(\"Movement 1: one cell to the right\")\n",
    "beliefs = move_one_cell_right(beliefs)\n",
    "show_diagram(worldmap, beliefs)"
   ]
  },
  {
   "cell_type": "code",
   "execution_count": 18,
   "metadata": {},
   "outputs": [
    {
     "name": "stdout",
     "output_type": "stream",
     "text": [
      "Measurement 2: cell has the color green\n"
     ]
    }
   ],
   "source": [
    "print(\"Measurement 2: cell has the color green\")\n",
    "# TODO"
   ]
  },
  {
   "cell_type": "code",
   "execution_count": 19,
   "metadata": {},
   "outputs": [
    {
     "name": "stdout",
     "output_type": "stream",
     "text": [
      "Movement 2: one cell to the right\n"
     ]
    }
   ],
   "source": [
    "print(\"Movement 2: one cell to the right\")\n",
    "# TODO"
   ]
  },
  {
   "cell_type": "code",
   "execution_count": 20,
   "metadata": {},
   "outputs": [
    {
     "name": "stdout",
     "output_type": "stream",
     "text": [
      "Measurement 3: cell has the color red\n"
     ]
    }
   ],
   "source": [
    "print(\"Measurement 3: cell has the color red\")\n",
    "# TODO"
   ]
  },
  {
   "cell_type": "markdown",
   "metadata": {},
   "source": [
    "----\n",
    "\n",
    "## Excercise 2:\n",
    "\n",
    "What happens when you repeatedly measure the cell color without moving the robot?\n",
    "\n",
    "----\n",
    "----\n",
    "\n",
    "## Step 2: Handling inaccurate movement while updating the position\n",
    "\n",
    "The probability for the robot when moving to its left or right\n",
    "* to end up in the anticipated neighborcell is 90% (accurate movement),\n",
    "* to remain in the current cell is 5% (inaccurate movement, undershooting) or\n",
    "* to move too far, ending up one cell past the anticipated cell is 5% aswell (inaccurate movement, overshooting).\n",
    "\n",
    "This results in the updated (and generalized) movement procedure. The parameter `steps` is used to indicate the amount of cells that the robot is supposed to move to the left or right. A positive value will move the robot to the right by the given amount, a negative one to the left."
   ]
  },
  {
   "cell_type": "code",
   "execution_count": 25,
   "metadata": {},
   "outputs": [],
   "source": [
    "def move_inaccurate(beliefs, steps):\n",
    "    p_overshoot = 0.05\n",
    "    p_undershoot = 0.05\n",
    "    p_accurate = 1 - p_overshoot - p_undershoot\n",
    "    new_beliefs = []\n",
    "    \n",
    "    num_beliefs = len(probabilities)\n",
    "    for i in range(num_beliefs):\n",
    "        index = (i-steps) % new_beliefs\n",
    "        next_index = (index+1) % num_beliefs\n",
    "        prev_index = (index-1) % num_beliefs\n",
    "        new_belief = p_exakt * beliefs[index]\n",
    "        new_belief = new_belief + p_overshoot  * beliefs[next_index]\n",
    "        new_belief = new_belief + p_undershoot * beliefs[prev_index]\n",
    "        new_beliefs.append(new_belief)\n",
    "    \n",
    "    return new_beliefs"
   ]
  },
  {
   "cell_type": "markdown",
   "metadata": {},
   "source": [
    "----\n",
    "\n",
    "## 3. Übung: Use inaccurate movement\n",
    "\n",
    "Use the procedure `move_inaccurate` as follows:\n",
    "\n",
    "    print(\"Movement X: 1 cell to the left\")\n",
    "    beliefs = move_inaccurate(beliefs, -1)\n",
    "    show_diagram(worldmap, beliefs)"
   ]
  },
  {
   "cell_type": "code",
   "execution_count": 27,
   "metadata": {},
   "outputs": [
    {
     "name": "stdout",
     "output_type": "stream",
     "text": [
      "Initial beliefs:\n"
     ]
    },
    {
     "ename": "NameError",
     "evalue": "name 'show_diagram' is not defined",
     "output_type": "error",
     "traceback": [
      "\u001b[0;31m---------------------------------------------------------------------------\u001b[0m",
      "\u001b[0;31mNameError\u001b[0m                                 Traceback (most recent call last)",
      "\u001b[0;32m<ipython-input-27-9f34111f76d5>\u001b[0m in \u001b[0;36m<module>\u001b[0;34m()\u001b[0m\n\u001b[1;32m      3\u001b[0m \u001b[0;34m\u001b[0m\u001b[0m\n\u001b[1;32m      4\u001b[0m \u001b[0mprint\u001b[0m\u001b[0;34m(\u001b[0m\u001b[0;34m\"Initial beliefs:\"\u001b[0m\u001b[0;34m)\u001b[0m\u001b[0;34m\u001b[0m\u001b[0m\n\u001b[0;32m----> 5\u001b[0;31m \u001b[0mshow_diagram\u001b[0m\u001b[0;34m(\u001b[0m\u001b[0mworldmap\u001b[0m\u001b[0;34m,\u001b[0m \u001b[0mbeliefs\u001b[0m\u001b[0;34m)\u001b[0m\u001b[0;34m\u001b[0m\u001b[0m\n\u001b[0m",
      "\u001b[0;31mNameError\u001b[0m: name 'show_diagram' is not defined"
     ]
    }
   ],
   "source": [
    "worldmap = ['G', 'G', 'R', 'G', 'R']\n",
    "beliefs = [1/len(map)] * len(map)\n",
    "\n",
    "print(\"Initial beliefs:\")\n",
    "show_diagram(worldmap, beliefs)"
   ]
  },
  {
   "cell_type": "code",
   "execution_count": 23,
   "metadata": {},
   "outputs": [
    {
     "name": "stdout",
     "output_type": "stream",
     "text": [
      "Measurement 1: cell has the color TODO\n"
     ]
    }
   ],
   "source": [
    "print(\"Measurement 1: cell has the color TODO\")\n",
    "# TODO"
   ]
  },
  {
   "cell_type": "code",
   "execution_count": 24,
   "metadata": {},
   "outputs": [
    {
     "name": "stdout",
     "output_type": "stream",
     "text": [
      "Movement 1: moving one cell in the direction TODO\n"
     ]
    }
   ],
   "source": [
    "print(\"Movement 1: moving one cell in the direction TODO\")\n",
    "# TODO"
   ]
  },
  {
   "cell_type": "code",
   "execution_count": 25,
   "metadata": {},
   "outputs": [
    {
     "name": "stdout",
     "output_type": "stream",
     "text": [
      "Measurement 2: cell has the color TODO\n"
     ]
    }
   ],
   "source": [
    "print(\"Measurement 2: cell has the color TODO\")\n",
    "# TODO"
   ]
  },
  {
   "cell_type": "code",
   "execution_count": 26,
   "metadata": {},
   "outputs": [
    {
     "name": "stdout",
     "output_type": "stream",
     "text": [
      "Movement X: moving one cell in the direction TODO\n"
     ]
    }
   ],
   "source": [
    "print(\"Movement X: moving one cell in the direction TODO\")\n",
    "# TODO"
   ]
  },
  {
   "cell_type": "markdown",
   "metadata": {},
   "source": [
    "----\n",
    "\n",
    "## Excercise 4: Just moving without measuring the color\n",
    "\n",
    "1. Localize the robot as precisely as possible.\n",
    "2. What happens, when you repeatedly move the robot with the new procedure that compensates inaccurate movement, without measuring the cell color? Why?\n",
    "\n",
    "\n",
    "----\n",
    "----"
   ]
  },
  {
   "cell_type": "code",
   "execution_count": null,
   "metadata": {},
   "outputs": [],
   "source": []
  }
 ],
 "metadata": {
  "kernelspec": {
   "display_name": "Python 3",
   "language": "python",
   "name": "python3"
  },
  "language_info": {
   "codemirror_mode": {
    "name": "ipython",
    "version": 3
   },
   "file_extension": ".py",
   "mimetype": "text/x-python",
   "name": "python",
   "nbconvert_exporter": "python",
   "pygments_lexer": "ipython3",
   "version": "3.6.6"
  }
 },
 "nbformat": 4,
 "nbformat_minor": 2
}
