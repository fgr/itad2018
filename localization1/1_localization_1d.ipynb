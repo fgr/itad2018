{
 "cells": [
  {
   "cell_type": "markdown",
   "metadata": {},
   "source": [
    "# Introduction to Autonomous Driving 2018\n",
    "## Localization of a robot in a 1D world\n",
    "### University of Applied Science Zwickau, Computer Science"
   ]
  },
  {
   "cell_type": "markdown",
   "metadata": {},
   "source": [
    "\n",
    "----\n",
    "\n",
    "# Goal: Develop a Python program to determine the position of a virtual robot\n",
    "\n",
    "----\n",
    "\n",
    "# Step 1: How do we represent the map of the robot's world in Python?"
   ]
  },
  {
   "cell_type": "code",
   "execution_count": 1,
   "metadata": {},
   "outputs": [],
   "source": [
    "worldmap = [ 'G', 'G', 'R', 'G', 'R' ]\n",
    "# We use 'G' to represent a green cell and 'R' to represent a red cell"
   ]
  },
  {
   "cell_type": "markdown",
   "metadata": {},
   "source": [
    "----\n",
    "## Note: Accessing the map and its cells\n",
    "\n",
    "Print all of the map's content:"
   ]
  },
  {
   "cell_type": "code",
   "execution_count": 2,
   "metadata": {},
   "outputs": [
    {
     "name": "stdout",
     "output_type": "stream",
     "text": [
      "['G', 'G', 'R', 'G', 'R']\n"
     ]
    }
   ],
   "source": [
    "print(worldmap)"
   ]
  },
  {
   "cell_type": "markdown",
   "metadata": {},
   "source": [
    "Access and print a single cell at a certain position/index:"
   ]
  },
  {
   "cell_type": "code",
   "execution_count": 3,
   "metadata": {},
   "outputs": [
    {
     "name": "stdout",
     "output_type": "stream",
     "text": [
      "G\n",
      "R\n"
     ]
    }
   ],
   "source": [
    "print(worldmap[1])\n",
    "print(worldmap[2])"
   ]
  },
  {
   "cell_type": "markdown",
   "metadata": {},
   "source": [
    "In Python (and many other programming languages), positions/indexes start at 0 instead of 1:"
   ]
  },
  {
   "cell_type": "code",
   "execution_count": 4,
   "metadata": {},
   "outputs": [
    {
     "name": "stdout",
     "output_type": "stream",
     "text": [
      "G\n"
     ]
    }
   ],
   "source": [
    "print(worldmap[0])"
   ]
  },
  {
   "cell_type": "markdown",
   "metadata": {},
   "source": [
    "----"
   ]
  },
  {
   "cell_type": "markdown",
   "metadata": {},
   "source": [
    "# Step 2 : Calculate new assumption of the robot's position based on the prior belief and the current measured cellcolor\n",
    "\n",
    "## 2.1. Beliefs as list of probabilities \n",
    "\n",
    "The initial beliefs represent a uniform distribution. Every cell has the same likelihood as any other cell in the world. The robot is in a state of \"maximum confusion\", it has no idea where it is currently positioned.\n",
    "\n",
    "Our world consist of five cells, so the likelihood of each cell is 20 per cent."
   ]
  },
  {
   "cell_type": "code",
   "execution_count": 5,
   "metadata": {},
   "outputs": [],
   "source": [
    "beliefs = [ 0.2, 0.2, 0.2, 0.2, 0.2 ]"
   ]
  },
  {
   "cell_type": "markdown",
   "metadata": {},
   "source": [
    "### Print current probabilities"
   ]
  },
  {
   "cell_type": "code",
   "execution_count": 6,
   "metadata": {},
   "outputs": [
    {
     "name": "stdout",
     "output_type": "stream",
     "text": [
      "initial beliefs\n",
      "------------------------------------------------\n",
      "     Map:   G   |   G   |   R   |   G   |   R   \n",
      "Position:  0.2  |  0.2  |  0.2  |  0.2  |  0.2  \n",
      "------------------------------------------------\n"
     ]
    }
   ],
   "source": [
    "from helper import *\n",
    "\n",
    "print(\"initial beliefs\")\n",
    "show(worldmap, beliefs)"
   ]
  },
  {
   "cell_type": "markdown",
   "metadata": {},
   "source": [
    "## 2.2. Calculate a new estimate of the robot's position based on the priour (time step $t_{n-1}$) belief and the currently ($t_{n}$) measured cellcolor\n",
    "\n",
    "* **Given input**: the measured cell color is **green**"
   ]
  },
  {
   "cell_type": "code",
   "execution_count": 8,
   "metadata": {},
   "outputs": [
    {
     "name": "stdout",
     "output_type": "stream",
     "text": [
      " Measurement: Cell has the color green\n",
      "------------------------------------------------\n",
      "     Map:   G   |   G   |   R   |   G   |   R   \n",
      "Position:  0.2  |  0.2  |  0.0  |  0.2  |  0.0  \n",
      "------------------------------------------------\n"
     ]
    }
   ],
   "source": [
    "print(\" Measurement: Cell has the color green\")\n",
    "measured_color = 'G'\n",
    "\n",
    "# 1. Calculate new belief of the robot's position based on the prior belief and the current measured cellcolor\n",
    "\n",
    "new_beliefs = []\n",
    "\n",
    "for index, cellcolor in enumerate(worldmap):\n",
    "    equal_color = (cellcolor == measured_color)\n",
    "    if equal_color:\n",
    "        new_beliefs.append(beliefs[index])\n",
    "    else:\n",
    "        new_beliefs.append(0.0)\n",
    "\n",
    "show(worldmap, new_beliefs)"
   ]
  },
  {
   "cell_type": "markdown",
   "metadata": {},
   "source": [
    "### 2.3. When working with probabilities, it is neccesary to normalize the just calculated probabilities"
   ]
  },
  {
   "cell_type": "code",
   "execution_count": 9,
   "metadata": {},
   "outputs": [],
   "source": [
    "# 2. Normalize\n",
    "\n",
    "s = sum(new_beliefs)\n",
    "for i in range(len(new_beliefs)):\n",
    "\tnew_beliefs[i] = new_beliefs[i] / s"
   ]
  },
  {
   "cell_type": "markdown",
   "metadata": {},
   "source": [
    "### 2.4. Print out the new probabilities and prepare the next step"
   ]
  },
  {
   "cell_type": "code",
   "execution_count": 10,
   "metadata": {},
   "outputs": [
    {
     "name": "stdout",
     "output_type": "stream",
     "text": [
      "------------------------------------------------\n",
      "     Map:   G   |   G   |   R   |   G   |   R   \n",
      "Position: 0.33  | 0.33  |  0.0  | 0.33  |  0.0  \n",
      "------------------------------------------------\n"
     ]
    }
   ],
   "source": [
    "beliefs = new_beliefs\n",
    "show(worldmap, beliefs)"
   ]
  },
  {
   "cell_type": "markdown",
   "metadata": {},
   "source": [
    "----\n",
    "----\n",
    "\n",
    "# Step 3: Simulate the robots movement to the right\n",
    "\n",
    "The robot moves one step in the direction right\n",
    "\n",
    "* Note: The world in which the robot is located is cyclic; should the robot's movement exceed one \"end\" of the map, he spawns at the other end"
   ]
  },
  {
   "cell_type": "code",
   "execution_count": 11,
   "metadata": {},
   "outputs": [
    {
     "name": "stdout",
     "output_type": "stream",
     "text": [
      "Movement: 1 cell to the right\n",
      "------------------------------------------------\n",
      "     Map:   G   |   G   |   R   |   G   |   R   \n",
      "Position:  0.0  | 0.33  | 0.33  |  0.0  | 0.33  \n",
      "------------------------------------------------\n"
     ]
    }
   ],
   "source": [
    "print(\"Movement: 1 cell to the right\")\n",
    "beliefs = shift_list(beliefs, 1)\n",
    "show(worldmap, beliefs)"
   ]
  },
  {
   "cell_type": "markdown",
   "metadata": {},
   "source": [
    "## Step 4: Measure the color of the next cell\n",
    "\n",
    "\n",
    "* **Given input**: the measured cellcolor is **red**"
   ]
  },
  {
   "cell_type": "code",
   "execution_count": 12,
   "metadata": {},
   "outputs": [
    {
     "name": "stdout",
     "output_type": "stream",
     "text": [
      " Measurement: Cell has the color red\n"
     ]
    }
   ],
   "source": [
    "print(\" Measurement: Cell has the color red\")\n",
    "\n",
    "# TODO"
   ]
  },
  {
   "cell_type": "markdown",
   "metadata": {},
   "source": [
    "----\n",
    "----\n",
    "\n",
    "# Step 5: The robot moves one step to the right"
   ]
  },
  {
   "cell_type": "code",
   "execution_count": 13,
   "metadata": {},
   "outputs": [
    {
     "name": "stdout",
     "output_type": "stream",
     "text": [
      "Movement: 1 cell to the right\n"
     ]
    }
   ],
   "source": [
    "print(\"Movement: 1 cell to the right\")\n",
    "\n",
    "# TODO"
   ]
  },
  {
   "cell_type": "markdown",
   "metadata": {},
   "source": [
    "----\n",
    "----\n",
    "\n",
    "## Step 6: Measure the color of the cell\n",
    "\n",
    "* **Given input**: the measured cellcolor is **green**\n",
    "\n",
    "**STOP**! Before copying the code from above and pasting it down here, we will look at a programming component that will make the duplication of code, which has many downsides, unnecessary:\n",
    "\n",
    "### Reuse codeblocks by using procedures:\n",
    "\n",
    "* We define a procedure called `update_beliefs`\n",
    "* and pass it (using so called _input parameters_)\n",
    "  * the map of the robot world,\n",
    "  * the prior beliefs, and\n",
    "  * the measured cell color.\n",
    "* The procedure calculates the new beliefs (probabilities) using the given input and returns these beliefs."
   ]
  },
  {
   "cell_type": "code",
   "execution_count": 14,
   "metadata": {},
   "outputs": [],
   "source": [
    "def update_beliefs(worldmap, beliefs, measured_color):\n",
    "    # 1. Calculate new assumption of the robot's position based on the previous and the current measured cellcolor\n",
    "    new_beliefs = []\n",
    "    for index, cellcolor in enumerate(worldmap):\n",
    "        equal_color = (cellcolor == measured_color)\n",
    "        if equal_color:\n",
    "            new_beliefs.append(beliefs[index])\n",
    "        else:\n",
    "            new_beliefs.append(0.0)\n",
    "    \n",
    "    # 2. Normalize\n",
    "    s = sum(new_beliefs)\n",
    "    for i in range(len(new_beliefs)):\n",
    "        new_beliefs[i] = new_beliefs[i] / s\n",
    "    \n",
    "    return new_beliefs"
   ]
  },
  {
   "cell_type": "markdown",
   "metadata": {},
   "source": [
    "**Now we will always use the procedure `update_beliefs`, when we want to update our beliefs of the robot's position:**"
   ]
  },
  {
   "cell_type": "code",
   "execution_count": 16,
   "metadata": {},
   "outputs": [
    {
     "name": "stdout",
     "output_type": "stream",
     "text": [
      " Measurement: Cell has the color red\n",
      "------------------------------------------------\n",
      "     Map:   G   |   G   |   R   |   G   |   R   \n",
      "Position:  0.0  |  0.0  |  0.5  |  0.0  |  0.5  \n",
      "------------------------------------------------\n"
     ]
    }
   ],
   "source": [
    "print(\" Measurement: Cell has the color red\")\n",
    "beliefs = update_beliefs(worldmap, beliefs, measured_color='R')\n",
    "show(worldmap, beliefs)"
   ]
  },
  {
   "cell_type": "markdown",
   "metadata": {},
   "source": [
    "### Summary on procedures\n",
    "\n",
    "Procedures are codeblocks that we can reuse over and over again, without having to recreate it (by means of rewriting or copying). They encapsulate functionality, that we can perform on call.\n",
    "\n",
    "----\n",
    "----\n",
    "\n",
    "## Step 7: The robot moves one step to the right"
   ]
  },
  {
   "cell_type": "code",
   "execution_count": 19,
   "metadata": {},
   "outputs": [
    {
     "name": "stdout",
     "output_type": "stream",
     "text": [
      "Movement: 1 cell to the right\n",
      "------------------------------------------------\n",
      "     Map:   G   |   G   |   R   |   G   |   R   \n",
      "Position:  0.5  |  0.0  |  0.5  |  0.0  |  0.0  \n",
      "------------------------------------------------\n"
     ]
    }
   ],
   "source": [
    "def move_one_cell_right(beliefs):\n",
    "    return shift_list(beliefs, 1)\n",
    "\n",
    "\n",
    "# make use of procedure move_one_cell_right:\n",
    "print(\"Movement: 1 cell to the right\")\n",
    "beliefs = move_one_cell_right(beliefs)\n",
    "show(worldmap, beliefs)"
   ]
  },
  {
   "cell_type": "markdown",
   "metadata": {},
   "source": [
    "----\n",
    "\n",
    "### Notes on procedures\n",
    "\n",
    "* Using procedures we were not only able to reuse valuable functionality (without duplicating it), but also we increased the abstraction level and, therefore, the clarity of our program by using expressive names like `update_beliefs` and `move_one_cell_right` instead of `shift_list`.\n",
    "* **Question**: What disadvantages does duplication of functionality (codeblocks) entail? Why should we use procedures?"
   ]
  },
  {
   "cell_type": "markdown",
   "metadata": {},
   "source": [
    "----\n",
    "----\n",
    "\n",
    "# Excercises\n",
    "\n",
    "## Exercise 1: Weird world\n",
    "\n",
    "* Try to localize the robot in the world: `[ 'G', 'G', 'G', 'G', 'G' ]`\n",
    "* What happens when you try to localize the robot?\n",
    "\n",
    "----\n",
    "\n",
    "## Exercise 2: Bigger world\n",
    "\n",
    "* Try to localize the robot in the world: `[ 'R', 'G', 'G', 'R', 'G', 'G' ]`\n",
    "* How do you calculate the initial beliefs?\n",
    "  * Hint: You can no longer use 0.2 as the initial probability for each cell. Why?\n",
    "* Try to localize the robot.\n",
    "\n",
    "----\n",
    "\n",
    "## Exercise 3: Giant bizzare world\n",
    "\n",
    "* Try to localize the robot in the world: `[ 'G', 'R', 'G', 'R', 'G', 'R', 'G', 'R' ]`\n",
    "* How do you calculate the initial beliefs?\n",
    "  * Hint: You can no longer use 0.2 as the initial probability for each cell. Why?\n",
    "* Try to localize the robot.\n",
    "\n",
    "\n",
    "---\n",
    "\n",
    "## Task for computer scientists\n",
    "\n",
    "How could the determination of the initial beliefs be automized, regardless of the world's size?\n",
    "\n",
    "----\n",
    "----"
   ]
  },
  {
   "cell_type": "code",
   "execution_count": null,
   "metadata": {},
   "outputs": [],
   "source": []
  }
 ],
 "metadata": {
  "kernelspec": {
   "display_name": "Python 3",
   "language": "python",
   "name": "python3"
  },
  "language_info": {
   "codemirror_mode": {
    "name": "ipython",
    "version": 3
   },
   "file_extension": ".py",
   "mimetype": "text/x-python",
   "name": "python",
   "nbconvert_exporter": "python",
   "pygments_lexer": "ipython3",
   "version": "3.6.6"
  }
 },
 "nbformat": 4,
 "nbformat_minor": 2
}
