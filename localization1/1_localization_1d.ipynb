{
 "cells": [
  {
   "cell_type": "markdown",
   "metadata": {},
   "source": [
    "# Introduction to Autonomous Driving 2018\n",
    "## Localization of a robot in a 1D world\n",
    "### University of Applied Science Zwickau, Computer Science"
   ]
  },
  {
   "cell_type": "markdown",
   "metadata": {},
   "source": [
    "\n",
    "----\n",
    "\n",
    "# Goal: Develop a Python program to determine the position of a virtual robot\n",
    "\n",
    "----\n",
    "\n",
    "# Step 1: How do we represent the map of the robot's world in Python?"
   ]
  },
  {
   "cell_type": "code",
   "execution_count": 20,
   "metadata": {},
   "outputs": [],
   "source": [
    "map = [ 'G', 'G', 'R', 'G', 'R' ]\n",
    "# We use 'G' to represent a green cell and 'R' to represent a red cell"
   ]
  },
  {
   "cell_type": "markdown",
   "metadata": {},
   "source": [
    "----\n",
    "## Note: Accessing the map and its cells\n",
    "\n",
    "Print all of the map's content:"
   ]
  },
  {
   "cell_type": "code",
   "execution_count": 2,
   "metadata": {},
   "outputs": [
    {
     "name": "stdout",
     "output_type": "stream",
     "text": [
      "['G', 'G', 'R', 'G', 'R']\n"
     ]
    }
   ],
   "source": [
    "print(map)"
   ]
  },
  {
   "cell_type": "markdown",
   "metadata": {},
   "source": [
    "Access and print a single cell at a certain position/index:"
   ]
  },
  {
   "cell_type": "code",
   "execution_count": 3,
   "metadata": {},
   "outputs": [
    {
     "name": "stdout",
     "output_type": "stream",
     "text": [
      "G\n",
      "R\n"
     ]
    }
   ],
   "source": [
    "print(map[1])\n",
    "print(map[2])"
   ]
  },
  {
   "cell_type": "markdown",
   "metadata": {},
   "source": [
    "In Python (and many other programming languages), positions/indexes start at 0 instead of 1:"
   ]
  },
  {
   "cell_type": "code",
   "execution_count": 4,
   "metadata": {},
   "outputs": [
    {
     "name": "stdout",
     "output_type": "stream",
     "text": [
      "G\n"
     ]
    }
   ],
   "source": [
    "print(map[0])"
   ]
  },
  {
   "cell_type": "markdown",
   "metadata": {},
   "source": [
    "----"
   ]
  },
  {
   "cell_type": "markdown",
   "metadata": {},
   "source": [
    "# Step 2 : Calculate new assumption of the robot's position based on the previous and the current measured cellcolor\n",
    "\n",
    "## 2.1. Assumptions as list of  probabilities \n",
    "\n",
    "* Initial probabilities are equally distributed over all cells\n",
    "  * the robot is in a state of \"maximum confusion\", he has no idea where he is currently located"
   ]
  },
  {
   "cell_type": "code",
   "execution_count": 5,
   "metadata": {},
   "outputs": [],
   "source": [
    "probabilities = [ 0.2, 0.2, 0.2, 0.2, 0.2 ]"
   ]
  },
  {
   "cell_type": "markdown",
   "metadata": {},
   "source": [
    "### Print current probabilities"
   ]
  },
  {
   "cell_type": "code",
   "execution_count": 6,
   "metadata": {},
   "outputs": [
    {
     "name": "stdout",
     "output_type": "stream",
     "text": [
      "initial probabilities\n",
      "------------------------------------------------\n",
      "   Karte:   G   |   G   |   R   |   G   |   R   \n",
      "Position:  0.2  |  0.2  |  0.2  |  0.2  |  0.2  \n",
      "------------------------------------------------\n",
      "\n"
     ]
    }
   ],
   "source": [
    "from helper import *\n",
    "\n",
    "print(\"initial probabilities\")\n",
    "ausgabe(map, probabilities)\n",
    "print()"
   ]
  },
  {
   "cell_type": "markdown",
   "metadata": {},
   "source": [
    "## 2.2. Calculate a new estimate of the robot's position based on the priour (time step $t_{n-1}$) belief and the currently ($t_{n}$) measured cellcolor\n",
    "\n",
    "* **Given input**: the measured cell color is **green**"
   ]
  },
  {
   "cell_type": "code",
   "execution_count": 25,
   "metadata": {},
   "outputs": [
    {
     "name": "stdout",
     "output_type": "stream",
     "text": [
      " Measurement: Cell has the color green\n"
     ]
    },
    {
     "ename": "NameError",
     "evalue": "name 'show' is not defined",
     "output_type": "error",
     "traceback": [
      "\u001b[0;31m---------------------------------------------------------------------------\u001b[0m",
      "\u001b[0;31mNameError\u001b[0m                                 Traceback (most recent call last)",
      "\u001b[0;32m<ipython-input-25-50f41141a744>\u001b[0m in \u001b[0;36m<module>\u001b[0;34m()\u001b[0m\n\u001b[1;32m     13\u001b[0m         \u001b[0mnew_beliefs\u001b[0m\u001b[0;34m.\u001b[0m\u001b[0mappend\u001b[0m\u001b[0;34m(\u001b[0m\u001b[0;36m0.0\u001b[0m\u001b[0;34m)\u001b[0m\u001b[0;34m\u001b[0m\u001b[0m\n\u001b[1;32m     14\u001b[0m \u001b[0;34m\u001b[0m\u001b[0m\n\u001b[0;32m---> 15\u001b[0;31m \u001b[0mshow\u001b[0m\u001b[0;34m(\u001b[0m\u001b[0mmap\u001b[0m\u001b[0;34m,\u001b[0m \u001b[0mnew_beliefs\u001b[0m\u001b[0;34m)\u001b[0m\u001b[0;34m\u001b[0m\u001b[0m\n\u001b[0m",
      "\u001b[0;31mNameError\u001b[0m: name 'show' is not defined"
     ]
    }
   ],
   "source": [
    "print(\" Measurement: Cell has the color green\")\n",
    "measured_color = 'G'\n",
    "\n",
    "# 1. Calculate new belief of the robot's position based on the prior belief and the current measured cellcolor\n",
    "\n",
    "new_beliefs = []\n",
    "\n",
    "for index, cellcolor in enumerate(map):\n",
    "    equal_color = (cellcolor == measured_color)\n",
    "    if equal_color:\n",
    "        new_beliefs.append(probabilities[index])\n",
    "    else:\n",
    "        new_beliefs.append(0.0)\n",
    "\n",
    "show(map, new_beliefs)"
   ]
  },
  {
   "cell_type": "markdown",
   "metadata": {},
   "source": [
    "### 2.3. When working with probabilities, it is neccesary to normalize the just calculated probabilities"
   ]
  },
  {
   "cell_type": "code",
   "execution_count": 27,
   "metadata": {},
   "outputs": [
    {
     "ename": "ZeroDivisionError",
     "evalue": "float division by zero",
     "output_type": "error",
     "traceback": [
      "\u001b[0;31m---------------------------------------------------------------------------\u001b[0m",
      "\u001b[0;31mZeroDivisionError\u001b[0m                         Traceback (most recent call last)",
      "\u001b[0;32m<ipython-input-27-dd539dd46137>\u001b[0m in \u001b[0;36m<module>\u001b[0;34m()\u001b[0m\n\u001b[1;32m      3\u001b[0m \u001b[0ms\u001b[0m \u001b[0;34m=\u001b[0m \u001b[0msum\u001b[0m\u001b[0;34m(\u001b[0m\u001b[0mnew_beliefs\u001b[0m\u001b[0;34m)\u001b[0m\u001b[0;34m\u001b[0m\u001b[0m\n\u001b[1;32m      4\u001b[0m \u001b[0;32mfor\u001b[0m \u001b[0mi\u001b[0m \u001b[0;32min\u001b[0m \u001b[0mrange\u001b[0m\u001b[0;34m(\u001b[0m\u001b[0mlen\u001b[0m\u001b[0;34m(\u001b[0m\u001b[0mnew_beliefs\u001b[0m\u001b[0;34m)\u001b[0m\u001b[0;34m)\u001b[0m\u001b[0;34m:\u001b[0m\u001b[0;34m\u001b[0m\u001b[0m\n\u001b[0;32m----> 5\u001b[0;31m         \u001b[0mnew_beliefs\u001b[0m\u001b[0;34m[\u001b[0m\u001b[0mi\u001b[0m\u001b[0;34m]\u001b[0m \u001b[0;34m=\u001b[0m \u001b[0mnew_beliefs\u001b[0m\u001b[0;34m[\u001b[0m\u001b[0mi\u001b[0m\u001b[0;34m]\u001b[0m \u001b[0;34m/\u001b[0m \u001b[0ms\u001b[0m\u001b[0;34m\u001b[0m\u001b[0m\n\u001b[0m",
      "\u001b[0;31mZeroDivisionError\u001b[0m: float division by zero"
     ]
    }
   ],
   "source": [
    "# 2. Normalize\n",
    "\n",
    "s = sum(new_beliefs)\n",
    "for i in range(len(new_beliefs)):\n",
    "\tnew_beliefs[i] = new_beliefs[i] / s"
   ]
  },
  {
   "cell_type": "markdown",
   "metadata": {},
   "source": [
    "### 2.4. Print out the new probabilities and prepare the next step"
   ]
  },
  {
   "cell_type": "code",
   "execution_count": 28,
   "metadata": {},
   "outputs": [
    {
     "ename": "NameError",
     "evalue": "name 'show' is not defined",
     "output_type": "error",
     "traceback": [
      "\u001b[0;31m---------------------------------------------------------------------------\u001b[0m",
      "\u001b[0;31mNameError\u001b[0m                                 Traceback (most recent call last)",
      "\u001b[0;32m<ipython-input-28-e1ec5992754c>\u001b[0m in \u001b[0;36m<module>\u001b[0;34m()\u001b[0m\n\u001b[1;32m      1\u001b[0m \u001b[0mbeliefs\u001b[0m \u001b[0;34m=\u001b[0m \u001b[0mnew_beliefs\u001b[0m\u001b[0;34m\u001b[0m\u001b[0m\n\u001b[0;32m----> 2\u001b[0;31m \u001b[0mshow\u001b[0m\u001b[0;34m(\u001b[0m\u001b[0mmap\u001b[0m\u001b[0;34m,\u001b[0m \u001b[0mprobabilities\u001b[0m\u001b[0;34m)\u001b[0m\u001b[0;34m\u001b[0m\u001b[0m\n\u001b[0m",
      "\u001b[0;31mNameError\u001b[0m: name 'show' is not defined"
     ]
    }
   ],
   "source": [
    "beliefs = new_beliefs\n",
    "show(map, probabilities)"
   ]
  },
  {
   "cell_type": "markdown",
   "metadata": {},
   "source": [
    "----\n",
    "----\n",
    "\n",
    "# Step 3: Simulate the robots movement to the right\n",
    "\n",
    "The robot moves one step in the direction right\n",
    "\n",
    "* Note: The world in which the robot is located is cyclic; should the robot's movement exceed one \"end\" of the map, he spawns at the other end"
   ]
  },
  {
   "cell_type": "code",
   "execution_count": 10,
   "metadata": {},
   "outputs": [
    {
     "name": "stdout",
     "output_type": "stream",
     "text": [
      "\n",
      "Movement: 1 cell to the right\n",
      "------------------------------------------------\n",
      "   Karte:   G   |   G   |   R   |   G   |   R   \n",
      "Position:  0.0  | 0.33  | 0.33  |  0.0  | 0.33  \n",
      "------------------------------------------------\n"
     ]
    }
   ],
   "source": [
    "print()\n",
    "print(\"Movement: 1 cell to the right\")\n",
    "probabilities = shift_list(probabilities, 1)\n",
    "ausgabe(map, probabilities)"
   ]
  },
  {
   "cell_type": "markdown",
   "metadata": {},
   "source": [
    "## Step 4: Measure the color of the next cell\n",
    "\n",
    "\n",
    "* **Given input**: the measured cellcolor is **red**"
   ]
  },
  {
   "cell_type": "code",
   "execution_count": 11,
   "metadata": {},
   "outputs": [
    {
     "name": "stdout",
     "output_type": "stream",
     "text": [
      " Measurement: Cell has the color red\n"
     ]
    }
   ],
   "source": [
    "print(\" Measurement: Cell has the color red\")\n",
    "\n",
    "# TODO"
   ]
  },
  {
   "cell_type": "markdown",
   "metadata": {},
   "source": [
    "----\n",
    "----\n",
    "\n",
    "# Step 5: The robot moves one step to the right"
   ]
  },
  {
   "cell_type": "code",
   "execution_count": 12,
   "metadata": {},
   "outputs": [
    {
     "name": "stdout",
     "output_type": "stream",
     "text": [
      "\n",
      "Movement: 1 cell to the right\n"
     ]
    }
   ],
   "source": [
    "print()\n",
    "print(\"Movement: 1 cell to the right\")\n",
    "\n",
    "# TODO"
   ]
  },
  {
   "cell_type": "markdown",
   "metadata": {},
   "source": [
    "----\n",
    "----\n",
    "\n",
    "## Step 6: Measure the color of the cell\n",
    "\n",
    "* **Given input**: the measured cellcolor is **green**\n",
    "\n",
    "**STOP**! Before copying the code from above and pasting it down here, we will look at a programming component that will make the duplication of code, which has many downsides, unnecessary:\n",
    "\n",
    "### Reuse codeblocks by using creating procedures:\n",
    "\n",
    "* We define a procedure\n",
    "`update_probabilities`\n",
    "* and pass it (using so called _input parameters_)\n",
    "  * the map,\n",
    "  * the latest probabilities and\n",
    "  * the measured color of the latest cell.\n",
    "* The procedure calculates the new probabilities using the given input and returns the result afterwards"
   ]
  },
  {
   "cell_type": "code",
   "execution_count": 13,
   "metadata": {},
   "outputs": [],
   "source": [
    "def update_probabilities(map, probabilities,\n",
    "                                    measured_color):\n",
    "    # 1. Calculate new assumption of the robot's position based on the previous and the current measured cellcolor\n",
    "    new_probabilities = []\n",
    "    for index, cellcolor in enumerate(map):\n",
    "        equal_color = (cellcolor == measured_color)\n",
    "        if equal_color:\n",
    "            new_probabilities.append(probabilities[index])\n",
    "        else:\n",
    "            new_probabilities.append(0.0)\n",
    "    \n",
    "    # 2. Normalize\n",
    "    s = sum(new_probabilities)\n",
    "    for i in range(len(new_probabilities)):\n",
    "        new_probabilities[i] = new_probabilities[i] / s\n",
    "    \n",
    "    return new_probabilities"
   ]
  },
  {
   "cell_type": "markdown",
   "metadata": {},
   "source": [
    "**Now we will always use the procedure `update_probabilities`, when we want to update our probabilities regarding the robot's position:**"
   ]
  },
  {
   "cell_type": "code",
   "execution_count": 14,
   "metadata": {},
   "outputs": [
    {
     "name": "stdout",
     "output_type": "stream",
     "text": [
      " Measurement: Cell has the color red\n",
      "------------------------------------------------\n",
      "   Karte:   G   |   G   |   R   |   G   |   R   \n",
      "Position:  0.0  |  0.0  |  0.5  |  0.0  |  0.5  \n",
      "------------------------------------------------\n"
     ]
    }
   ],
   "source": [
    "print(\" Measurement: Cell has the color red\")\n",
    "probabilities = update_probabilities(map, probabilities, measured_color='R')\n",
    "ausgabe(map, probabilities)"
   ]
  },
  {
   "cell_type": "markdown",
   "metadata": {},
   "source": [
    "### Summary on procedures\n",
    "\n",
    "Procedures are codeblocks that we can reuse over and over again, without having to recreate it (by means of rewriting or copying). They encapsulate functionality, that we can perform on call.\n",
    "\n",
    "----\n",
    "----\n",
    "\n",
    "## Step 7: The robot moves one step to the right"
   ]
  },
  {
   "cell_type": "code",
   "execution_count": 15,
   "metadata": {},
   "outputs": [
    {
     "name": "stdout",
     "output_type": "stream",
     "text": [
      "\n",
      "Movement: 1 cell to the right\n"
     ]
    },
    {
     "ename": "NameError",
     "evalue": "name 'move_one_cell_right' is not defined",
     "output_type": "error",
     "traceback": [
      "\u001b[0;31m---------------------------------------------------------------------------\u001b[0m",
      "\u001b[0;31mNameError\u001b[0m                                 Traceback (most recent call last)",
      "\u001b[0;32m<ipython-input-15-b9ef623ced6f>\u001b[0m in \u001b[0;36m<module>\u001b[0;34m()\u001b[0m\n\u001b[1;32m      6\u001b[0m \u001b[0mprint\u001b[0m\u001b[0;34m(\u001b[0m\u001b[0;34m)\u001b[0m\u001b[0;34m\u001b[0m\u001b[0m\n\u001b[1;32m      7\u001b[0m \u001b[0mprint\u001b[0m\u001b[0;34m(\u001b[0m\u001b[0;34m\"Movement: 1 cell to the right\"\u001b[0m\u001b[0;34m)\u001b[0m\u001b[0;34m\u001b[0m\u001b[0m\n\u001b[0;32m----> 8\u001b[0;31m \u001b[0mprobabilities\u001b[0m \u001b[0;34m=\u001b[0m \u001b[0mmove_one_cell_right\u001b[0m\u001b[0;34m(\u001b[0m\u001b[0mprobabilities\u001b[0m\u001b[0;34m)\u001b[0m\u001b[0;34m\u001b[0m\u001b[0m\n\u001b[0m",
      "\u001b[0;31mNameError\u001b[0m: name 'move_one_cell_right' is not defined"
     ]
    }
   ],
   "source": [
    "# TODO: define procedure 'move_one_cell_right'\n",
    "# def move_one_cell_right(...)\n",
    "\n",
    "\n",
    "# utilize the procedure:\n",
    "print()\n",
    "print(\"Movement: 1 cell to the right\")\n",
    "probabilities = move_one_cell_right(probabilities)"
   ]
  },
  {
   "cell_type": "markdown",
   "metadata": {},
   "source": [
    "----\n",
    "\n",
    "### Notes on procedures\n",
    "\n",
    "* Using procedures we were not only able to reuse valuable functionality (without duplicating it), but also we increased the abstraction level and therefore the clarity of our program, by using expressive names: `update_probabilities` and `move_one_cell_right` instead of `shift_list`.\n",
    "* **Question**: What disadvantages does duplication of functionality (codeblocks) entail? Why should we use procedures?"
   ]
  },
  {
   "cell_type": "markdown",
   "metadata": {},
   "source": [
    "----\n",
    "----\n",
    "\n",
    "# Excercises\n",
    "\n",
    "## Exercice 1: Weird world\n",
    "\n",
    "* Try to localize the robot in the world: `[ 'G', 'G', 'G', 'G', 'G' ]`\n",
    "* What happens when you try to localize the robot?\n",
    "\n",
    "----\n",
    "\n",
    "## 2. Übung: Bigger world\n",
    "\n",
    "* Try to localize the robot in the world: `[ 'R', 'G', 'G', 'R', 'G', 'G' ]`\n",
    "* How do you calculate the initial probabilities?\n",
    "  * Hint: You can no longer use 0.2 as the initial probability for each cell. Why?\n",
    "* Try to localize the robot.\n",
    "\n",
    "----\n",
    "\n",
    "## 3. Übung: Giant bizzare world\n",
    "\n",
    "* Try to localize the robot in the world: `[ 'G', 'R', 'G', 'R', 'G', 'R', 'G', 'R' ]`\n",
    "* How do you calculate the initial probabilities?\n",
    "  * Hint: You can no longer use 0.2 as the initial probability for each cell. Why?\n",
    "* Try to localize the robot.\n",
    "\n",
    "\n",
    "---\n",
    "\n",
    "## Task\n",
    "\n",
    "How could the determination of the initial probabilites be automized, regardless of the world's size?\n",
    "\n",
    "----\n",
    "----"
   ]
  },
  {
   "cell_type": "code",
   "execution_count": null,
   "metadata": {},
   "outputs": [],
   "source": []
  }
 ],
 "metadata": {
  "kernelspec": {
   "display_name": "Python 3",
   "language": "python",
   "name": "python3"
  },
  "language_info": {
   "codemirror_mode": {
    "name": "ipython",
    "version": 3
   },
   "file_extension": ".py",
   "mimetype": "text/x-python",
   "name": "python",
   "nbconvert_exporter": "python",
   "pygments_lexer": "ipython3",
   "version": "3.6.6"
  }
 },
 "nbformat": 4,
 "nbformat_minor": 2
}
